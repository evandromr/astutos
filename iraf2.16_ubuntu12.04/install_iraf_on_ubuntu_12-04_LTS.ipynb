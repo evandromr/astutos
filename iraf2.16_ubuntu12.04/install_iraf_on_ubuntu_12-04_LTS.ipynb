{
 "metadata": {
  "name": ""
 },
 "nbformat": 3,
 "nbformat_minor": 0,
 "worksheets": [
  {
   "cells": [
    {
     "cell_type": "markdown",
     "metadata": {},
     "source": [
      "# How to install IRAF 2.16 on Ubuntu 12.04 (LTS) [64bits]"
     ]
    },
    {
     "cell_type": "markdown",
     "metadata": {},
     "source": [
      "A (perhaps) comprehensive guide to install IRAF on Ubuntu, without all the Whibley-Wobbly of creating users, copy/paste unknow commands, and running third-parties scripts."
     ]
    },
    {
     "cell_type": "markdown",
     "metadata": {},
     "source": [
      "---"
     ]
    },
    {
     "cell_type": "markdown",
     "metadata": {},
     "source": [
      "## Step 1: Download IRAF"
     ]
    },
    {
     "cell_type": "markdown",
     "metadata": {},
     "source": [
      "- Go to the [IRAF website](http://iraf.noao.edu/) and download the linux 64bit binary distribution."
     ]
    },
    {
     "cell_type": "markdown",
     "metadata": {},
     "source": [
      "------"
     ]
    },
    {
     "cell_type": "markdown",
     "metadata": {},
     "source": [
      "##Step 2: Installing IRAF"
     ]
    },
    {
     "cell_type": "markdown",
     "metadata": {},
     "source": [
      "### Skippable Explanation (slightly technical details)"
     ]
    },
    {
     "cell_type": "markdown",
     "metadata": {},
     "source": [
      "Due to how IRAF was built, it is better to use the `tcsh` shell to deal with installations and upgrades of IRAF.\n",
      "Ubuntu (and all major linux distributions that I know of) uses `bash` insead. That seems to be the main reason that the majority of tutorials about IRAF and Ubuntu makes you createa a new user with the `tcsh` as the default shell.  \n",
      "\n",
      "Here, we are just call the `tcsh` shell inside a normal gnome-terminal session, but for that you will have to make sure that you have `tcsh` installed.  \n",
      "\n",
      "The steps below will follow the instructions found on the IRAF [README/Install Guide](ftp://iraf.noao.edu/iraf/v216/README). If you feel unconfortable of just following instructions (wich you should), I recommend have a look at it."
     ]
    },
    {
     "cell_type": "markdown",
     "metadata": {},
     "source": [
      "### What you should do:"
     ]
    },
    {
     "cell_type": "markdown",
     "metadata": {},
     "source": [
      " - Create your iraf directory somewhere  \n",
      " (in my case it is /home/username/Work/Softwares/iraf)"
     ]
    },
    {
     "cell_type": "markdown",
     "metadata": {},
     "source": [
      "`cd ~/Work/Softwares`  \n",
      "`mkdir iraf`"
     ]
    },
    {
     "cell_type": "markdown",
     "metadata": {},
     "source": [
      "  - Create another iraf directory inside the last one  \n",
      " (that means, /home/username/Work/Softwares/iraf/iraf)   "
     ]
    },
    {
     "cell_type": "markdown",
     "metadata": {},
     "source": [
      "`mkdir iraf/iraf`"
     ]
    },
    {
     "cell_type": "markdown",
     "metadata": {},
     "source": [
      " - Copy the downladed file to the second iraf directory  \n",
      " __Note__: The '.' at the end of the copy command means \"HERE\""
     ]
    },
    {
     "cell_type": "markdown",
     "metadata": {},
     "source": [
      "`cd iraf/iraf`\n",
      "\n",
      "`cp ~/Downloads/iraf.lnux.x86_64.tar.gz .`"
     ]
    },
    {
     "cell_type": "markdown",
     "metadata": {},
     "source": [
      " \n",
      " - Decompress the archive  \n",
      " \n",
      " "
     ]
    },
    {
     "cell_type": "markdown",
     "metadata": {},
     "source": [
      "`tar zxvf iraf.lnux.x86_64.tar.gz`"
     ]
    },
    {
     "cell_type": "markdown",
     "metadata": {},
     "source": [
      " - Start the `tcsh` shell as 'sudo'."
     ]
    },
    {
     "cell_type": "markdown",
     "metadata": {},
     "source": [
      "`sudo tcsh`"
     ]
    },
    {
     "cell_type": "markdown",
     "metadata": {},
     "source": [
      "- Inside the shell do:  \n",
      "     - creates an \\$iraf environment variable poin to the iraf/iraf/ folder (yes, with a trailing \"/\")  \n",
      "     - run the $iraf/unix/hlib/install script  \n",
      " \n",
      " \n",
      " __Note:__ Since you are at the iraf/iraf directory, you can use the \\$PWD variable, it means \"The path to where I am\". Also, notice the '/' after \\$PWD, it is necessary for the iraf installation script."
     ]
    },
    {
     "cell_type": "markdown",
     "metadata": {},
     "source": [
      "`setenv iraf $PWD/`  \n",
      "`$iraf/unix/hlib/install`"
     ]
    },
    {
     "cell_type": "markdown",
     "metadata": {},
     "source": [
      "__Note:__ The installations script are gonna ask you where to install stuff and what else you wanto to configure at the post-installation. I will assume thant you can decide that for yourself."
     ]
    },
    {
     "cell_type": "markdown",
     "metadata": {},
     "source": [
      " - logout of the `tcsh` shell "
     ]
    },
    {
     "cell_type": "markdown",
     "metadata": {},
     "source": [
      "`exit`"
     ]
    },
    {
     "cell_type": "markdown",
     "metadata": {},
     "source": [
      "### That should be it, but...   \n",
      "\n",
      "The graphical routines of IRAF requires a kind of terminal the supports them, and the common gnome-terminal on Ubuntu doesn't.\n",
      "But for that we have to install X11IRAF."
     ]
    },
    {
     "cell_type": "markdown",
     "metadata": {},
     "source": [
      "---"
     ]
    },
    {
     "cell_type": "markdown",
     "metadata": {},
     "source": [
      "## Step 3: Downloading X11IRAF"
     ]
    },
    {
     "cell_type": "markdown",
     "metadata": {},
     "source": [
      "- Go to the [X11IRAF ftp area](http://iraf.noao.edu/projects/x11iraf/) and download the linux binary distribution (I recommend the v2.0BETA version [x11iraf-v2.0BETA-bin.linux.tar.gz](http://iraf.noao.edu/projects/x11iraf/x11iraf-v2.0BETA-bin.linux.tar.gz))."
     ]
    },
    {
     "cell_type": "markdown",
     "metadata": {},
     "source": [
      "## Step 4: Installing X11IRAF binary distribution"
     ]
    },
    {
     "cell_type": "markdown",
     "metadata": {},
     "source": [
      "### Skippable explanation"
     ]
    },
    {
     "cell_type": "markdown",
     "metadata": {},
     "source": [
      "To use the graphical routines of IRAF we will use the `xgterm` terminal, wich is part of the X11IRAF. For it work properly we will need to install some 32-bits library wrappers in Ubuntu, those libraries can be found as part of the package \"`ia32-libs`\" and it is present at the ubuntu softwares repositories.\n",
      "\n",
      "\n",
      "The following instructions were taken of the X11IRAF Readme.install file, wich comes with the installation packges, you should read them too."
     ]
    },
    {
     "cell_type": "markdown",
     "metadata": {},
     "source": [
      "### What you should do"
     ]
    },
    {
     "cell_type": "markdown",
     "metadata": {},
     "source": [
      " - Install the 32bits libraries"
     ]
    },
    {
     "cell_type": "markdown",
     "metadata": {},
     "source": [
      "`sudo apt-get install ia32-libs`"
     ]
    },
    {
     "cell_type": "markdown",
     "metadata": {},
     "source": [
      "- create a folder called x11iraf and copy the Download to it"
     ]
    },
    {
     "cell_type": "markdown",
     "metadata": {},
     "source": [
      "`#go to the iraf directory`  \n",
      "`cd ..`  \n",
      "\n",
      "`#create x11iraf dir inside iraf/`  \n",
      "`mkdir x11iraf`  \n",
      "`cd x11iraf`  \n",
      "\n",
      "`#copy the downloaded package to the x11iraf dir`  \n",
      "`cp ~/Downloads/x11iraf-v2.0BETA-bin.linux.tar.gz .`"
     ]
    },
    {
     "cell_type": "markdown",
     "metadata": {},
     "source": [
      "- Extract the archive"
     ]
    },
    {
     "cell_type": "markdown",
     "metadata": {},
     "source": [
      "`tar zxvf x11iraf-v2.0BETA-bin.linux.tar.gz`"
     ]
    },
    {
     "cell_type": "markdown",
     "metadata": {},
     "source": [
      " - Follow the installation instructions:"
     ]
    },
    {
     "cell_type": "markdown",
     "metadata": {},
     "source": [
      "`sudo cp bin.linux/* /usr/local/bin/               # for the binaries`  \n",
      "`sudo cp lib.linux/* /usr/local/lib/               # for the CDL library`  \n",
      "`sudo cp include/* /usr/local/include/             # for CDL include files`  \n",
      "`sudo cp app-defaults/* /usr/lib/X11/app-defaults/ # app resource defaults`  \n",
      "`sudo cp man/* /usr/man/man1/                      # man pages`  "
     ]
    },
    {
     "cell_type": "markdown",
     "metadata": {},
     "source": [
      "__Note:__ I noticed that there wasn't a `/usr/lib/X11/app-defaults` in my system and the same thing for the `usr/man/man1/`, if that is your case you can create those folders with the commands below, and retry to copy the files.  \n",
      "\n",
      "`sudo mkdir /usr/lib/X11/app-defaults`  \n",
      "`sudo mkdir /usr/man/man1`"
     ]
    },
    {
     "cell_type": "markdown",
     "metadata": {},
     "source": [
      "__Note 2:__ I also noticed that the there is a `/etc/X11/app-defaults/` folder. So, just to be sure, I copied the app-defaults files to this folder too, with:  \n",
      "\n",
      "`sudo cp app-defaults/* /etc/X11/app-defaults/`"
     ]
    },
    {
     "cell_type": "markdown",
     "metadata": {},
     "source": [
      "### What now?\n",
      "\n",
      "If everything worked as expected, you are ready to start using IRAF, but..."
     ]
    },
    {
     "cell_type": "markdown",
     "metadata": {},
     "source": [
      "---"
     ]
    },
    {
     "cell_type": "markdown",
     "metadata": {},
     "source": [
      "# Advices"
     ]
    },
    {
     "cell_type": "markdown",
     "metadata": {},
     "source": [
      "### Calling xgterm on the background\n",
      "\n",
      "To sucessfully start and use a IRAF session you are gonna need to use the `xgterm` terminal, wich we just installed with the x11iraf package.\n",
      "\n",
      "For that you just need to call `xgterm` from the bash. If you want to still be able to use your bash session while using xgterm, you can run it as a background process with:\n",
      "\n",
      "`xgterm &`\n",
      "\n",
      "__Note:__ If your terminal do not find the `xgterm` command, try to close the terminal window and open it again, to properly recognize the files on the system `PATH`."
     ]
    },
    {
     "cell_type": "markdown",
     "metadata": {},
     "source": [
      "### Initializing IRAF and start a session\n",
      "\n",
      "IRAF needs a place to work, for general purpose tasks I recommend to use the `iraf/` folder that we created at the start of this tutorial (in my example `/home/username/Work/Softwares/iraf/`). And you still have to initialize this work place. To do that, using `xgterm`:\n",
      "\n",
      " - go your working folder\n",
      "   - `cd ~/Work/Softwares/iraf/`\n",
      " - run mkiraf in this folder\n",
      "   - `mkiraf`\n",
      "   - This will create a `login.cl` file and a `uparm` directory\n",
      "   - If asked for a type of terminal, choose `xgterm`\n",
      " - start an iraf session in this directory\n",
      "   - `cl`\n",
      "   - Or, for __e__nhanced capabilities, `ecl`"
     ]
    },
    {
     "cell_type": "markdown",
     "metadata": {},
     "source": [
      "### Open image tools\n",
      "\n",
      "When dealing with images, remember to have a `ds9` or `ximtool` windows opened. to open a window inside the iraf environment do:  \n",
      "\n",
      "!ds9 &\n",
      "\n",
      "or \n",
      "\n",
      "!ximtool &\n",
      "\n",
      "__Note:__ The \"!\" symbols runs any following command in the shell, instead of inside IRAF. This is useful."
     ]
    },
    {
     "cell_type": "markdown",
     "metadata": {},
     "source": [
      "---"
     ]
    }
   ],
   "metadata": {}
  }
 ]
}