{
 "metadata": {
  "name": ""
 },
 "nbformat": 3,
 "nbformat_minor": 0,
 "worksheets": [
  {
   "cells": [
    {
     "cell_type": "markdown",
     "metadata": {},
     "source": [
      "# Setting up Python environments for My needs\n",
      "\n",
      "3 different ways to do it without root privileges (read: don't mess with the system) in Ubuntu 13.10"
     ]
    },
    {
     "cell_type": "markdown",
     "metadata": {},
     "source": [
      "## 1- With Ureka"
     ]
    },
    {
     "cell_type": "markdown",
     "metadata": {},
     "source": [
      "Download the [Ureka installer](http://ssb.stsci.edu/ureka/)\n",
      "\n",
      "---\n",
      "\n",
      "As their description says:  \n",
      "\n",
      "_\"Ureka is a collection of useful astronomy software that is generally centered around Python and IRAF. The software provides everything you need to run the data reduction packages provided by STScI and Gemini. System privileges are not normally required to install Ureka, and there are minimal operating system requirements. Ureka is a binary distibution for Macs and Linux.\"_\n",
      "\n",
      "and that means that beside a python installation with some handy packages (like `numpy`, `pyds9`, `astropy`, `pyraf`, etc.) it comes with some astronomy softwares (like `iraf`, `ds9`, `xgterm`, `ximtool`, etc.).\n",
      "\n",
      "This is the best option if you are going to work with python and those other softwares, and don't need python3 support (see comments below).\n",
      "\n",
      "Ureka 1.0 comes with python 2.7.X, and is not compatible with python-3 yet.  \n",
      "Also, `IRAF` and some other softwares requires 32-bit libraries that doesn't come installed as default in 64-bit distributions of Ubuntu.  \n",
      "Have a look at their notes about [32-bit support on 64-bit Linux](http://ssb.stsci.edu/ureka/1.0/docs/32bit_iraf.html)\n",
      "\n",
      "---"
     ]
    },
    {
     "cell_type": "markdown",
     "metadata": {},
     "source": [
      "Put the installer in your place of choice to install it, run:\n",
      "\n",
      "    bash install_ureka_1.0\n",
      "    \n",
      "__Note:__ You will need an internet connection and some coffee.\n",
      "\n",
      "When finished, close and open your terminal again.  \n",
      "\n",
      "You can start the Ureka environment with:  \n",
      "\n",
      "    ur_setup\n",
      "    \n",
      "And deactivate it with:\n",
      "\n",
      "    ur_forget\n",
      "    \n",
      "And you can change this aliases in your `~/.bashrc` file (and/or put then in `~/.bash_aliases`).\n",
      "\n",
      "To install/upgrade python packages, just use `pip` (with `ur_setup` __active__):  \n",
      "\n",
      "    pip install package\n",
      "    pip install --upgrade package"
     ]
    },
    {
     "cell_type": "markdown",
     "metadata": {},
     "source": [
      "---"
     ]
    },
    {
     "cell_type": "markdown",
     "metadata": {},
     "source": [
      "## 2 - With Anaconda"
     ]
    },
    {
     "cell_type": "markdown",
     "metadata": {},
     "source": [
      "Download and install [Anaconda](https://store.continuum.io/cshop/anaconda/#)\n",
      "\n",
      "---\n",
      "\n",
      "According to their description, Anaconda is a  \n",
      "   \n",
      "   \"Completely free enterprise-ready Python distribution for large-scale data processing, predictive analytics, and scientific computing\".\n",
      "   \n",
      "If you need an environment with enphasys on velocity and easy of use thi is your choice, but it is a little tricky to make it work with some external softwares.\n",
      "\n",
      "---"
     ]
    },
    {
     "cell_type": "markdown",
     "metadata": {},
     "source": [
      "Update `conda` and python (python from 2.7.5 to 2.7.6):\n",
      "\n",
      "    conda update conda\n",
      "    \n",
      "Install Accelerate and IOpro (if you got an academic license, or bought a license)\n",
      "\n",
      "    conda install accelerate iopro\n",
      "    \n",
      "To install/update packages using conda:\n",
      "\n",
      "    conda install package\n",
      "    conda update package\n",
      "    \n",
      "__Tip:__ Do not update the _`anaconda`_ package, or it will downgrade python to 2.7.5. I don't know why."
     ]
    },
    {
     "cell_type": "markdown",
     "metadata": {},
     "source": [
      "### To create a Python-3.3 environment:\n",
      "\n",
      "    conda create -n py3conda python=3.3 anaconda\n",
      "\n",
      "And to run it (I gave it an alias on my _`bash_aliases`_ file, see [my configuration files](https://github.com/evandromr/configuration_files)):\n",
      "    \n",
      "    source activate py3conda\n",
      "    \n",
      "To deactivate:  \n",
      "\n",
      "    deactivate\n",
      "    \n",
      "Update the python version and install accelerate (IOpro doesn't support python3):  \n",
      "\n",
      "    conda update -n py3conda python\n",
      "    conda install -n py3conda accelerate\n",
      "\n",
      "#### Important:\n",
      "To install/update the packages on the environment, use conda __outside__ the environment (with it deactivated):\n",
      "\n",
      "    conda install -n py3conda package\n",
      "    conda update -n py3conda package\n",
      "    \n",
      "Or use `pip` instead of conda, then you can use it __inside__ the environment:  \n",
      "\n",
      "    pip install package\n",
      "    pip install --upgrade package"
     ]
    },
    {
     "cell_type": "markdown",
     "metadata": {},
     "source": [
      "---"
     ]
    },
    {
     "cell_type": "markdown",
     "metadata": {},
     "source": [
      "## 3 - With Python only -- !! NOT WORKING !! "
     ]
    },
    {
     "cell_type": "markdown",
     "metadata": {},
     "source": [
      "---\n",
      "\n",
      "Well, Python is Python.\n",
      "\n",
      "This is the best choice if you want full control of your environment and libraries versions, it is not so optimized as Anaconda nor easily integrated with other astronomy softwares as Ureka, but you will always know which version of python and its libraries you are using.\n",
      "\n",
      "---"
     ]
    },
    {
     "cell_type": "markdown",
     "metadata": {},
     "source": [
      "Download the latest version of [Python](www.python.org), and install it locally like this:"
     ]
    },
    {
     "cell_type": "markdown",
     "metadata": {},
     "source": [
      "Create a local installation in a folder with wright permission\n",
      "\n",
      "    mkdir ~/MyPython  \n",
      "    mkdir ~/MyPython/Python-X.x.x  \n",
      "    \n",
      "Extract the installer  \n",
      "\n",
      "    tar -xvf Python-X.x.x   \n",
      "    cd Python-X.x.x  \n",
      "    \n",
      "Install at the local path  \n",
      "\n",
      "    ./configure --prefix=/home/<user>/MyPython/Python-X.x.x  \n",
      "    make  \n",
      "    make install  "
     ]
    },
    {
     "cell_type": "markdown",
     "metadata": {},
     "source": [
      "### To create a Python-3.3 environment\n",
      "\n",
      "If you just installed python-3.3 or later, it comes with a virtual environment manager called pyvenv\n",
      "\n",
      "Setting up python environment with `pyvenv`:  \n",
      "\n",
      "    /home/MyPython/Python-3.3.x/bin/pyvenv ~/MyPython/python3env\n",
      "    \n",
      "To run it you must use  (or create an alias to do it, see the file _`bash_aliases`_ in [my configuration files](https://github.com/evandromr/configuration_files))\n",
      "\n",
      "    source ~/MyPython/python3env/bin/activate\n",
      "    \n",
      "To install pip on it (or in the main python installation)  \n",
      "\n",
      "    wget https://bitbucket.org/pypa/setuptools/raw/bootstrap/ez_setup.py -O - | python\n",
      "    easy_install pip\n",
      "\n",
      "From then on, install or upgrade python packages with  \n",
      "    \n",
      "    pip install package\n",
      "    pip install --upgrade package"
     ]
    },
    {
     "cell_type": "markdown",
     "metadata": {},
     "source": [
      "---"
     ]
    }
   ],
   "metadata": {}
  }
 ]
}